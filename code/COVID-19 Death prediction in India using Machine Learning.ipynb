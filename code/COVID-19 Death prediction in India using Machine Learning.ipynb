{
 "cells": [
  {
   "cell_type": "markdown",
   "metadata": {},
   "source": [
    "# COVID-19 Death prediction in India using Machine Learning"
   ]
  },
  {
   "cell_type": "code",
   "execution_count": 1,
   "metadata": {},
   "outputs": [],
   "source": [
    "import pandas as pd\n",
    "import numpy as np"
   ]
  },
  {
   "cell_type": "code",
   "execution_count": 2,
   "metadata": {},
   "outputs": [
    {
     "name": "stdout",
     "output_type": "stream",
     "text": [
      "F:\\india\n"
     ]
    }
   ],
   "source": [
    "cd F:\\india"
   ]
  },
  {
   "cell_type": "code",
   "execution_count": 3,
   "metadata": {},
   "outputs": [],
   "source": [
    "df=pd.read_csv(\"weekcount.csv\")"
   ]
  },
  {
   "cell_type": "code",
   "execution_count": 4,
   "metadata": {},
   "outputs": [],
   "source": [
    "c=list(df[\"State/UnionTerritory\"])\n",
    "d=list(df[\"Confirmed\"])\n",
    "e=list(df[\"week_count\"])\n",
    "j=list(df[\"Deaths\"])\n",
    "k=(list(df[\"Cured\"]))"
   ]
  },
  {
   "cell_type": "code",
   "execution_count": 5,
   "metadata": {},
   "outputs": [],
   "source": [
    "l=[]\n",
    "n=len(k)\n",
    "for i in range(n):\n",
    "    t=int(k[i])\n",
    "    l.append(t)"
   ]
  },
  {
   "cell_type": "code",
   "execution_count": 6,
   "metadata": {},
   "outputs": [
    {
     "name": "stdout",
     "output_type": "stream",
     "text": [
      "Tamil Nadu\n"
     ]
    },
    {
     "data": {
      "text/plain": [
       "'Tamil Nadu'"
      ]
     },
     "execution_count": 6,
     "metadata": {},
     "output_type": "execute_result"
    }
   ],
   "source": [
    "a=str(input())\n",
    "a\n"
   ]
  },
  {
   "cell_type": "code",
   "execution_count": 7,
   "metadata": {},
   "outputs": [],
   "source": [
    "x=[]\n",
    "z=[]\n",
    "y=[]\n",
    "b=[]\n",
    "for i in range(len(c)):\n",
    "    if(a==c[i]):\n",
    "        x.append(d[i]);\n",
    "        y.append(e[i]);\n",
    "        z.append(j[i]);\n",
    "        b.append(l[i]);"
   ]
  },
  {
   "cell_type": "code",
   "execution_count": 8,
   "metadata": {},
   "outputs": [],
   "source": [
    "s = {'confirmed':x,'Deaths':z,\"cured\":b}\n",
    "\n",
    "x=pd.DataFrame(s)\n",
    "y=pd.DataFrame(y)\n"
   ]
  },
  {
   "cell_type": "code",
   "execution_count": 9,
   "metadata": {},
   "outputs": [],
   "source": [
    "from sklearn.model_selection import train_test_split\n",
    "x_train,x_test,y_train,y_test=train_test_split(x,y,test_size=0.4,random_state=1)"
   ]
  },
  {
   "cell_type": "code",
   "execution_count": 10,
   "metadata": {},
   "outputs": [
    {
     "data": {
      "text/plain": [
       "99.77988296225124"
      ]
     },
     "execution_count": 10,
     "metadata": {},
     "output_type": "execute_result"
    }
   ],
   "source": [
    "from sklearn.linear_model import LinearRegression\n",
    "lr=LinearRegression()\n",
    "lr.fit(x_train,y_train)\n",
    "y_pred=lr.predict(x_test)\n",
    "lr.score(x_train,y_train)*100"
   ]
  },
  {
   "cell_type": "code",
   "execution_count": 11,
   "metadata": {},
   "outputs": [
    {
     "name": "stdout",
     "output_type": "stream",
     "text": [
      "Accuracy r2_score 99.78518805265165\n"
     ]
    }
   ],
   "source": [
    "y_pred=lr.predict(x_test)\n",
    "\n",
    "from sklearn.metrics import r2_score,mean_squared_error,mean_absolute_error\n",
    "from math import sqrt\n",
    "accuracy=r2_score(y_pred,y_test)*100\n",
    "print(\"Accuracy r2_score\",accuracy)\n"
   ]
  },
  {
   "cell_type": "code",
   "execution_count": 12,
   "metadata": {},
   "outputs": [
    {
     "name": "stdout",
     "output_type": "stream",
     "text": [
      "MAE= 3.086764656000819\n"
     ]
    }
   ],
   "source": [
    "from sklearn.metrics import mean_absolute_error\n",
    "pred= lr.predict(x_test)\n",
    "print(\"MAE=\",mean_absolute_error(y_test, pred))\n"
   ]
  },
  {
   "cell_type": "code",
   "execution_count": 13,
   "metadata": {},
   "outputs": [
    {
     "name": "stdout",
     "output_type": "stream",
     "text": [
      "MSE= 0    21.102118\n",
      "dtype: float64\n",
      "Final rmse value is = 0    4.593704\n",
      "dtype: float64\n"
     ]
    }
   ],
   "source": [
    "rss=((y_test-y_pred)**2).sum()\n",
    "mse=np.mean((y_test-y_pred)**2)\n",
    "print(\"MSE=\",mse)\n",
    "print(\"Final rmse value is =\",np.sqrt(np.mean((y_test-pred)**2)))\n"
   ]
  }
 ],
 "metadata": {
  "kernelspec": {
   "display_name": "Python 3",
   "language": "python",
   "name": "python3"
  },
  "language_info": {
   "codemirror_mode": {
    "name": "ipython",
    "version": 3
   },
   "file_extension": ".py",
   "mimetype": "text/x-python",
   "name": "python",
   "nbconvert_exporter": "python",
   "pygments_lexer": "ipython3",
   "version": "3.8.2"
  }
 },
 "nbformat": 4,
 "nbformat_minor": 4
}
